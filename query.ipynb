{
 "cells": [
  {
   "cell_type": "code",
   "execution_count": 26,
   "id": "354dc611-8a6d-4a7d-869e-4b28535e3236",
   "metadata": {},
   "outputs": [],
   "source": [
    "import os\n",
    "import pickle\n",
    "import math"
   ]
  },
  {
   "cell_type": "code",
   "execution_count": 17,
   "id": "947ea600-e5b2-44d3-b18d-48dae24cc1d3",
   "metadata": {},
   "outputs": [],
   "source": [
    "def load_data():\n",
    "    with open('tfidf/vocab.pkl', 'rb') as f:\n",
    "        vocab = pickle.load(f)\n",
    "    with open('tfidf/invidx.pkl', 'rb') as f:\n",
    "        invidx = pickle.load(f)\n",
    "    with open('tfidf/docs.txt', 'r') as f:\n",
    "        docs = f.readlines()\n",
    "        docs = [doc.strip().split() for doc in docs]\n",
    "    return (vocab, invidx, docs)\n",
    "    \n",
    "\n",
    "vocab, invidx, docs = load_data()\n",
    "# query = input('Enter the query string:\\n')"
   ]
  },
  {
   "cell_type": "code",
   "execution_count": 48,
   "id": "2681ab95-75d2-4510-8106-54c1e5421006",
   "metadata": {},
   "outputs": [],
   "source": [
    "def gettf(word):\n",
    "    ans = {}\n",
    "    if word in invidx:\n",
    "        for doc in invidx[word]:\n",
    "            if doc in ans: ans[doc] += 1\n",
    "            else: ans[doc] = 1\n",
    "    for doc in ans:\n",
    "        ans[doc] /= len(docs[doc])\n",
    "    return ans\n",
    "\n",
    "def getidf(word):\n",
    "    return math.log(vocab[word])\n",
    "\n",
    "def calcorder(words):\n",
    "    ans = {}\n",
    "    for word in words:\n",
    "        if word not in vocab: continue\n",
    "        tfvals = gettf(word)\n",
    "        idfval = getidf(word)\n",
    "        for doc in tfvals:\n",
    "            if doc not in ans: ans[doc] = tfvals[doc]*idfval\n",
    "            else: ans[doc] += tfvals[doc]*idfval\n",
    "    for doc in ans:\n",
    "        ans[doc] /= len(words)\n",
    "    ans = dict(sorted(ans.items(), key=lambda item: item[1], reverse=True))\n",
    "    return ans"
   ]
  },
  {
   "cell_type": "code",
   "execution_count": 49,
   "id": "7bdffe43-7fc8-4d49-86af-7c6085cc63fe",
   "metadata": {},
   "outputs": [
    {
     "name": "stdout",
     "output_type": "stream",
     "text": [
      "['list', 'linked', 'design'] 1.1198355257308765\n",
      "['list', 'linked', 'cycle'] 1.1198355257308765\n",
      "['palindrome', 'list', 'linked'] 1.1198355257308765\n",
      "['components', 'list', 'linked'] 1.1198355257308765\n",
      "['list', 'reverse', 'linked'] 1.1198355257308765\n",
      "['list', 'reorder'] 0.8958797346140275\n",
      "['partition', 'list'] 0.8958797346140275\n",
      "['rotate', 'list'] 0.8958797346140275\n",
      "['sort', 'list'] 0.8958797346140275\n",
      "['list', 'reverse', 'linked', 'ii'] 0.8398766442981574\n",
      "['list', 'linked', 'odd', 'even'] 0.8398766442981574\n",
      "['list', 'linked', 'ii', 'cycle'] 0.8398766442981574\n",
      "['elements', 'list', 'linked', 'remove'] 0.8398766442981574\n",
      "['node', 'list', 'linked', 'random'] 0.8398766442981574\n",
      "['tree', 'linked', 'list', 'binary', 'in'] 0.671901315438526\n",
      "['remove', 'linked', 'list', 'from', 'nodes'] 0.671901315438526\n",
      "['linked', 'of', 'list', 'middle', 'the'] 0.671901315438526\n",
      "['in', 'linked', 'split', 'list', 'parts'] 0.671901315438526\n",
      "['decompress', 'list', 'encoded'] 0.5972531564093516\n",
      "['intersections', 'list', 'interval'] 0.5972531564093516\n",
      "['sort', 'list', 'insertion'] 0.5972531564093516\n",
      "['linked', 'next', 'list', 'node', 'in', 'greater'] 0.5599177628654383\n",
      "['multilevel', 'linked', 'doubly', 'list', 'a', 'flatten'] 0.5599177628654383\n",
      "['tree', 'linked', 'to', 'list', 'binary', 'flatten'] 0.5599177628654383\n",
      "['linked', 'swapping', 'list', 'a', 'in', 'nodes'] 0.5599177628654383\n",
      "['linked', 'list', 'node', 'a', 'in', 'delete'] 0.5599177628654383\n",
      "['twin', 'linked', 'of', 'list', 'a', 'sum', 'maximum'] 0.47992951102751846\n",
      "['iterator', 'nested', 'list', 'flatten'] 0.44793986730701374\n",
      "['zero', 'remove', 'linked', 'list', 'sum', 'from', 'consecutive', 'nodes'] 0.4199383221490787\n",
      "['remove', 'sorted', 'duplicates', 'list', 'from'] 0.358351893845611\n",
      "['with', 'random', 'copy', 'pointer', 'list'] 0.358351893845611\n",
      "['two', 'linked', 'intersection', 'of', 'lists'] 0.313549421592915\n",
      "['merge', 'linked', 'between', 'lists', 'in'] 0.313549421592915\n",
      "['remove', 'sorted', 'ii', 'duplicates', 'list', 'from'] 0.2986265782046758\n",
      "['remove', 'of', 'list', 'from', 'node', 'end', 'nth'] 0.25596563846115067\n",
      "['ordered', 'period', 'products', 'list', 'a', 'in', 'the'] 0.25596563846115067\n",
      "['tree', 'sorted', 'to', 'list', 'convert', 'binary', 'search'] 0.25596563846115067\n",
      "['is', 'people', 'not', 'another', 'favorite', 'whose', 'of', 'list', 'a', 'companies', 'subset'] 0.16288722447527773\n"
     ]
    }
   ],
   "source": [
    "query = 'linked list'\n",
    "words = [word.lower() for word in query.strip().split()]\n",
    "ans = calcorder(words)\n",
    "for idx, val in ans.items():\n",
    "    print(docs[idx], val)"
   ]
  },
  {
   "cell_type": "code",
   "execution_count": null,
   "id": "fb85972a-3c67-436c-b71b-696f3a6258a2",
   "metadata": {},
   "outputs": [],
   "source": []
  }
 ],
 "metadata": {
  "kernelspec": {
   "display_name": "Python 3 (ipykernel)",
   "language": "python",
   "name": "python3"
  },
  "language_info": {
   "codemirror_mode": {
    "name": "ipython",
    "version": 3
   },
   "file_extension": ".py",
   "mimetype": "text/x-python",
   "name": "python",
   "nbconvert_exporter": "python",
   "pygments_lexer": "ipython3",
   "version": "3.10.12"
  }
 },
 "nbformat": 4,
 "nbformat_minor": 5
}
