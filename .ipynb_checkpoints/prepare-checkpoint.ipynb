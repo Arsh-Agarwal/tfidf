{
 "cells": [
  {
   "cell_type": "code",
   "execution_count": 2,
   "id": "6e8264b5-8831-487a-ab38-781ece71a25c",
   "metadata": {},
   "outputs": [],
   "source": [
    "import os\n",
    "import chardet\n",
    "import pickle"
   ]
  },
  {
   "cell_type": "code",
   "execution_count": 3,
   "id": "d130ab28-b419-48b0-8b87-c26b23a84da6",
   "metadata": {},
   "outputs": [
    {
     "name": "stdout",
     "output_type": "stream",
     "text": [
      "vocab saved!\n",
      "invidx saved!\n"
     ]
    }
   ],
   "source": [
    "with open('index.txt', 'r') as file:\n",
    "    lines = file.readlines()\n",
    "\n",
    "with open('urlindex.txt', 'r') as file:\n",
    "    urls = file.readlines()\n",
    "    urls = [url for url in urls if url!='\\n']\n",
    "\n",
    "def prep(s):\n",
    "    words = [word.lower() for word in s.strip().split()[1:] if word.isalnum()]\n",
    "    return set(words)\n",
    "\n",
    "docs = []\n",
    "urldocs = []\n",
    "vocab = {}\n",
    "for index, line in enumerate(lines):\n",
    "    words = prep(line)\n",
    "    docs.append(words)\n",
    "    urldocs.append(urls[index])\n",
    "    for word in words:\n",
    "        if word not in vocab: vocab[word] = 1\n",
    "        else: vocab[word] += 1\n",
    "\n",
    "vocab = dict(sorted(vocab.items(), key = lambda item: item[1], reverse=True))\n",
    "with open('tfidf/vocab.pkl', 'wb') as f:\n",
    "    pickle.dump(vocab, f)\n",
    "    print('vocab saved!')\n",
    "\n",
    "with open('tfidf/docs.txt', 'w') as f:\n",
    "    for doc in docs:\n",
    "        f.write('%s\\n'%' '.join(doc))\n",
    "\n",
    "with open('tfidf/urldocs.txt', 'w') as f:\n",
    "    for url in urldocs:\n",
    "        f.write(url+'\\n')\n",
    "\n",
    "invidx = {}\n",
    "for index, doc in enumerate(docs):\n",
    "    for word in doc:\n",
    "        if word not in invidx: invidx[word] = [index]\n",
    "        else: invidx[word].append(index)\n",
    "\n",
    "with open('tfidf/invidx.pkl', 'wb') as f:\n",
    "    pickle.dump(invidx, f)\n",
    "    print('invidx saved!')"
   ]
  },
  {
   "cell_type": "code",
   "execution_count": null,
   "id": "5cf6ed51-74a0-462b-9e7b-32852a72b3dd",
   "metadata": {},
   "outputs": [],
   "source": []
  }
 ],
 "metadata": {
  "kernelspec": {
   "display_name": "Python 3 (ipykernel)",
   "language": "python",
   "name": "python3"
  },
  "language_info": {
   "codemirror_mode": {
    "name": "ipython",
    "version": 3
   },
   "file_extension": ".py",
   "mimetype": "text/x-python",
   "name": "python",
   "nbconvert_exporter": "python",
   "pygments_lexer": "ipython3",
   "version": "3.10.12"
  }
 },
 "nbformat": 4,
 "nbformat_minor": 5
}
